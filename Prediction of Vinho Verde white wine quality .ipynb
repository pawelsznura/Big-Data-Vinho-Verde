{
 "cells": [
  {
   "cell_type": "markdown",
   "id": "d7712227",
   "metadata": {},
   "source": [
    "# Dataset Overview\n",
    "The Wine Quality Data Set was obtained from the UCI Machine Learning Repository, on the 28th of October 2021 at 2:37 pm. It consists of two datasets, representing the red and white variants of the Portuguese Vinho Verde wine. In this work, only the White Wine dataset will be used. The records were collected from May 2004 to February 2007 by the CVRVV which is an official certification entity with the goal of improving the quality and marketing of Vinho Verde. (Cortez et al. 2009) The wines were assessed by physicochemical and sensory tests. The physiochemical variables are fixed acidity, volatile acidity, citric acid, residual sugar, chlorides, free sulfur dioxide, total sulfur dioxide, density, pH, sulphates, alcohol. Sensory data is based on at least three human experts who graded quality on a scale from 0 (very bad) to 10 (excellent), the final value is the median of these ratings. This dataset is larger than other publicly available, for example, the Wine Data Set from the UCI repository consist only of 178 instances and was donated over 30 years ago. Other studies have focused mostly on predicting the geographic wine origin or correctly classifying the wine. (Sun, Danzer and Thiel 1997), (Legin et al. 2003) Therefore in the field of predicting the quality of a wine is still much room for improvement. "
   ]
  },
  {
   "cell_type": "markdown",
   "id": "6e6383c9",
   "metadata": {},
   "source": [
    "# Objectives\n",
    "This dataset will be used to build a model to predict the wine quality as a whole number on a scale from 0 (very bad) to 10 (excellent). Quality evaluation currently relies fully on human experts, which can be an expensive process. Therefore, this work will explore the use of machine learning techniques to predict the quality based on the physicochemical data. "
   ]
  },
  {
   "cell_type": "markdown",
   "id": "eaf4f458",
   "metadata": {},
   "source": [
    "# Peer-Reviewed paper\n",
    "\n",
    "## Selection of important features and predicting wine quality using machine learning techniques (Gupta 2018)\n",
    "This paper aims to determine the dependence of various variables on the output. Additionally, it compares the results of prediction when using selected features to all the features in the dataset. The experiments were performed on both red and white wine datasets from the UCI Wine Quality Data Set. The paper points out that the data needs pre-processing because of the large amplitude of variables, it proposes a linear transformation. It does not say if or how it handles the class imbalance. \n",
    "\n",
    "To determine the importance of each feature on the output value, a linear regression model was used. The results for the Red Wine dataset were presented in a form of a table. It shows that the quality of the wine is 35.61% dependent on all input features. When the value is less than 50%, the paper indicates that one or more of the input features are not essential for the output value. The paper concludes that features like volatile acidity, chlorides, free sulfur dioxide, total sulfur dioxide, pH, sulphates and alcohol are crucial in predicting the quality of red wine, as their p-value is less than 0.05. The results for the white wine dataset were presented similarly. The quality was 28.02% dependent on all predictors as a whole. The important predictors were fixed acidity, volatile acidity, residual sugar, free sulfur dioxide, density, pH, sulphates and alcohol with a p-value less than 0.05. \n",
    "\n",
    "To predict wine quality, two machine learning techniques were used - the neural network and support vector machine. In both techniques, two models were trained. One was using all the input values, while the second only the selected values. \n",
    "In the Red Wine dataset, the results of NN were presented in 2 tables. The first table shows 10 random samples with their original value and predicted value, using both models. The second table shows the overall training error, test error, and validation error. The results of selecting were closer to the original, with a test error of 0.146024 compared to the all features test error of 0.195660. \n",
    "The results of SVM were presented only by the table including 10 random samples. The paper claims that SVM gives more accurate predictions for selected features than all features, but it does not present the overall accuracy of these models. \n",
    "The results for the White Wine dataset were presented in a similar way. The test error of NN using selected features was 0.207456, which was less than for all features 0.241568. The paper concludes that SVM is a better machine learning technique for this task. However, it does not show the overall summary, but only 10 samples. It is worth noting that wine quality values are whole numbers 0 – 10, so it can be interpreted as 11 classes. The prediction techniques were using a regression approach. The justification for it could be that the selected or all features comparison would be more noticeable in this approach. \n",
    "\n"
   ]
  },
  {
   "cell_type": "markdown",
   "id": "99203fcf",
   "metadata": {},
   "source": [
    "# Data Exploration "
   ]
  },
  {
   "cell_type": "markdown",
   "id": "aa797059",
   "metadata": {},
   "source": [
    "## Import dataset "
   ]
  },
  {
   "cell_type": "markdown",
   "id": "73848e2c",
   "metadata": {},
   "source": [
    "The first step in data exploration is to read the data into a Data Frame on which we can work later. The library Pandas was used for this task. The separator in the 'CSV' file is a semicolon. Additionally in the code below, other libraries were imported which will help in exploring the data.\n"
   ]
  },
  {
   "cell_type": "code",
   "execution_count": 1,
   "id": "926a781a",
   "metadata": {},
   "outputs": [],
   "source": [
    "# import libraries\n",
    "import pandas as pd\n",
    "import matplotlib.pyplot as plt\n",
    "import seaborn as sns\n",
    "import numpy as np\n",
    "\n",
    "# read the file\n",
    "df = pd.read_csv('data/winequality-white.csv', header=0, sep=';')\n"
   ]
  },
  {
   "cell_type": "markdown",
   "id": "0c3b3b7c",
   "metadata": {},
   "source": [
    "## Quick data exploration "
   ]
  },
  {
   "cell_type": "markdown",
   "id": "0182558c",
   "metadata": {},
   "source": [
    "It is always a good idea to see a few rows of the loaded file, to have a rough idea of the data and see if the data was read correctly. "
   ]
  },
  {
   "cell_type": "code",
   "execution_count": 2,
   "id": "06fdec2a",
   "metadata": {},
   "outputs": [
    {
     "data": {
      "text/html": [
       "<div>\n",
       "<style scoped>\n",
       "    .dataframe tbody tr th:only-of-type {\n",
       "        vertical-align: middle;\n",
       "    }\n",
       "\n",
       "    .dataframe tbody tr th {\n",
       "        vertical-align: top;\n",
       "    }\n",
       "\n",
       "    .dataframe thead th {\n",
       "        text-align: right;\n",
       "    }\n",
       "</style>\n",
       "<table border=\"1\" class=\"dataframe\">\n",
       "  <thead>\n",
       "    <tr style=\"text-align: right;\">\n",
       "      <th></th>\n",
       "      <th>fixed acidity</th>\n",
       "      <th>volatile acidity</th>\n",
       "      <th>citric acid</th>\n",
       "      <th>residual sugar</th>\n",
       "      <th>chlorides</th>\n",
       "      <th>free sulfur dioxide</th>\n",
       "      <th>total sulfur dioxide</th>\n",
       "      <th>density</th>\n",
       "      <th>pH</th>\n",
       "      <th>sulphates</th>\n",
       "      <th>alcohol</th>\n",
       "      <th>quality</th>\n",
       "    </tr>\n",
       "  </thead>\n",
       "  <tbody>\n",
       "    <tr>\n",
       "      <th>0</th>\n",
       "      <td>7.0</td>\n",
       "      <td>0.27</td>\n",
       "      <td>0.36</td>\n",
       "      <td>20.7</td>\n",
       "      <td>0.045</td>\n",
       "      <td>45.0</td>\n",
       "      <td>170.0</td>\n",
       "      <td>1.0010</td>\n",
       "      <td>3.00</td>\n",
       "      <td>0.45</td>\n",
       "      <td>8.8</td>\n",
       "      <td>6</td>\n",
       "    </tr>\n",
       "    <tr>\n",
       "      <th>1</th>\n",
       "      <td>6.3</td>\n",
       "      <td>0.30</td>\n",
       "      <td>0.34</td>\n",
       "      <td>1.6</td>\n",
       "      <td>0.049</td>\n",
       "      <td>14.0</td>\n",
       "      <td>132.0</td>\n",
       "      <td>0.9940</td>\n",
       "      <td>3.30</td>\n",
       "      <td>0.49</td>\n",
       "      <td>9.5</td>\n",
       "      <td>6</td>\n",
       "    </tr>\n",
       "    <tr>\n",
       "      <th>2</th>\n",
       "      <td>8.1</td>\n",
       "      <td>0.28</td>\n",
       "      <td>0.40</td>\n",
       "      <td>6.9</td>\n",
       "      <td>0.050</td>\n",
       "      <td>30.0</td>\n",
       "      <td>97.0</td>\n",
       "      <td>0.9951</td>\n",
       "      <td>3.26</td>\n",
       "      <td>0.44</td>\n",
       "      <td>10.1</td>\n",
       "      <td>6</td>\n",
       "    </tr>\n",
       "    <tr>\n",
       "      <th>3</th>\n",
       "      <td>7.2</td>\n",
       "      <td>0.23</td>\n",
       "      <td>0.32</td>\n",
       "      <td>8.5</td>\n",
       "      <td>0.058</td>\n",
       "      <td>47.0</td>\n",
       "      <td>186.0</td>\n",
       "      <td>0.9956</td>\n",
       "      <td>3.19</td>\n",
       "      <td>0.40</td>\n",
       "      <td>9.9</td>\n",
       "      <td>6</td>\n",
       "    </tr>\n",
       "    <tr>\n",
       "      <th>4</th>\n",
       "      <td>7.2</td>\n",
       "      <td>0.23</td>\n",
       "      <td>0.32</td>\n",
       "      <td>8.5</td>\n",
       "      <td>0.058</td>\n",
       "      <td>47.0</td>\n",
       "      <td>186.0</td>\n",
       "      <td>0.9956</td>\n",
       "      <td>3.19</td>\n",
       "      <td>0.40</td>\n",
       "      <td>9.9</td>\n",
       "      <td>6</td>\n",
       "    </tr>\n",
       "  </tbody>\n",
       "</table>\n",
       "</div>"
      ],
      "text/plain": [
       "   fixed acidity  volatile acidity  citric acid  residual sugar  chlorides  \\\n",
       "0            7.0              0.27         0.36            20.7      0.045   \n",
       "1            6.3              0.30         0.34             1.6      0.049   \n",
       "2            8.1              0.28         0.40             6.9      0.050   \n",
       "3            7.2              0.23         0.32             8.5      0.058   \n",
       "4            7.2              0.23         0.32             8.5      0.058   \n",
       "\n",
       "   free sulfur dioxide  total sulfur dioxide  density    pH  sulphates  \\\n",
       "0                 45.0                 170.0   1.0010  3.00       0.45   \n",
       "1                 14.0                 132.0   0.9940  3.30       0.49   \n",
       "2                 30.0                  97.0   0.9951  3.26       0.44   \n",
       "3                 47.0                 186.0   0.9956  3.19       0.40   \n",
       "4                 47.0                 186.0   0.9956  3.19       0.40   \n",
       "\n",
       "   alcohol  quality  \n",
       "0      8.8        6  \n",
       "1      9.5        6  \n",
       "2     10.1        6  \n",
       "3      9.9        6  \n",
       "4      9.9        6  "
      ]
     },
     "execution_count": 2,
     "metadata": {},
     "output_type": "execute_result"
    }
   ],
   "source": [
    "df.head()"
   ]
  },
  {
   "cell_type": "code",
   "execution_count": 3,
   "id": "1ee81058",
   "metadata": {},
   "outputs": [
    {
     "name": "stdout",
     "output_type": "stream",
     "text": [
      "The dataset has 4898 rows, and 12 columns\n"
     ]
    }
   ],
   "source": [
    "# dataset size\n",
    "print(f'The dataset has {df.shape[0]} rows, and {df.shape[1]} columns')"
   ]
  },
  {
   "cell_type": "markdown",
   "id": "7930d992",
   "metadata": {},
   "source": [
    "The dataset has 4898 records, each record consist of 11 input features (fixed acidity, volatile acidity, citric acid, residual sugar, chlorides, free sulfur dioxide, total sulfur dioxide, density, pH, sulphates, alcohol) and one target variable (quality). "
   ]
  },
  {
   "cell_type": "markdown",
   "id": "6864d086",
   "metadata": {},
   "source": [
    "## Missing values"
   ]
  },
  {
   "cell_type": "code",
   "execution_count": 4,
   "id": "ee62e0ec",
   "metadata": {},
   "outputs": [
    {
     "data": {
      "text/plain": [
       "fixed acidity           0\n",
       "volatile acidity        0\n",
       "citric acid             0\n",
       "residual sugar          0\n",
       "chlorides               0\n",
       "free sulfur dioxide     0\n",
       "total sulfur dioxide    0\n",
       "density                 0\n",
       "pH                      0\n",
       "sulphates               0\n",
       "alcohol                 0\n",
       "quality                 0\n",
       "dtype: int64"
      ]
     },
     "execution_count": 4,
     "metadata": {},
     "output_type": "execute_result"
    }
   ],
   "source": [
    "# look for missing values \n",
    "df.isnull().sum()"
   ]
  },
  {
   "cell_type": "markdown",
   "id": "a877926d",
   "metadata": {},
   "source": [
    "As said in the dataset description it does not contain any missing values. "
   ]
  },
  {
   "cell_type": "markdown",
   "id": "9589b9a3",
   "metadata": {},
   "source": [
    "## Data types"
   ]
  },
  {
   "cell_type": "code",
   "execution_count": 5,
   "id": "dc254015",
   "metadata": {},
   "outputs": [
    {
     "name": "stdout",
     "output_type": "stream",
     "text": [
      "<class 'pandas.core.frame.DataFrame'>\n",
      "RangeIndex: 4898 entries, 0 to 4897\n",
      "Data columns (total 12 columns):\n",
      " #   Column                Non-Null Count  Dtype  \n",
      "---  ------                --------------  -----  \n",
      " 0   fixed acidity         4898 non-null   float64\n",
      " 1   volatile acidity      4898 non-null   float64\n",
      " 2   citric acid           4898 non-null   float64\n",
      " 3   residual sugar        4898 non-null   float64\n",
      " 4   chlorides             4898 non-null   float64\n",
      " 5   free sulfur dioxide   4898 non-null   float64\n",
      " 6   total sulfur dioxide  4898 non-null   float64\n",
      " 7   density               4898 non-null   float64\n",
      " 8   pH                    4898 non-null   float64\n",
      " 9   sulphates             4898 non-null   float64\n",
      " 10  alcohol               4898 non-null   float64\n",
      " 11  quality               4898 non-null   int64  \n",
      "dtypes: float64(11), int64(1)\n",
      "memory usage: 459.3 KB\n"
     ]
    }
   ],
   "source": [
    "# display data type of variables \n",
    "df.info()"
   ]
  },
  {
   "cell_type": "markdown",
   "id": "db9af330",
   "metadata": {},
   "source": [
    "The code above displays the data type for each variable in the table. Every input feature is a floating-point number and the quality (target value) is an integer. The dataset does not contain any categorical variables. "
   ]
  },
  {
   "cell_type": "markdown",
   "id": "780f0bc6",
   "metadata": {},
   "source": [
    "## Class Distribution "
   ]
  },
  {
   "cell_type": "code",
   "execution_count": 6,
   "id": "46d2c66c",
   "metadata": {},
   "outputs": [
    {
     "data": {
      "text/plain": [
       "6    2198\n",
       "5    1457\n",
       "7     880\n",
       "8     175\n",
       "4     163\n",
       "3      20\n",
       "9       5\n",
       "Name: quality, dtype: int64"
      ]
     },
     "execution_count": 6,
     "metadata": {},
     "output_type": "execute_result"
    }
   ],
   "source": [
    "# count how many times each value occurs \n",
    "df['quality'].value_counts()"
   ]
  },
  {
   "cell_type": "code",
   "execution_count": 7,
   "id": "b6d36c7f",
   "metadata": {},
   "outputs": [
    {
     "data": {
      "image/png": "[encoded data removed]",
      "text/plain": [
       "<Figure size 504x360 with 1 Axes>"
      ]
     },
     "metadata": {},
     "output_type": "display_data"
    }
   ],
   "source": [
    "# create class distribution diagram \n",
    "sns.set_style('darkgrid')\n",
    "sns.set(rc={'figure.figsize':(7,5)})\n",
    "sns.countplot(x=\"quality\", data=df)\n",
    "plt.show()"
   ]
  },
  {
   "cell_type": "markdown",
   "id": "d306fe91",
   "metadata": {},
   "source": [
    "The description said that the quality values were graded on a scale from 0 (very bad) to  10 (excellent), it also points out that there are many more normal wines than excellent or poor ones. This diagram above together with the code that counts how many times each value is occurring, clearly states that there are very little to no records for wines that are very bad or excellent. The data is imbalanced. For example, there are only 5 samples with the quality of a 9 and 20 samples of a 3. This means that without any changes to the dataset it will be hard if not impossible to train the model for those cases. "
   ]
  },
  {
   "cell_type": "code",
   "execution_count": 8,
   "id": "2227a87f",
   "metadata": {},
   "outputs": [
    {
     "data": {
      "text/html": [
       "<div>\n",
       "<style scoped>\n",
       "    .dataframe tbody tr th:only-of-type {\n",
       "        vertical-align: middle;\n",
       "    }\n",
       "\n",
       "    .dataframe tbody tr th {\n",
       "        vertical-align: top;\n",
       "    }\n",
       "\n",
       "    .dataframe thead th {\n",
       "        text-align: right;\n",
       "    }\n",
       "</style>\n",
       "<table border=\"1\" class=\"dataframe\">\n",
       "  <thead>\n",
       "    <tr style=\"text-align: right;\">\n",
       "      <th></th>\n",
       "      <th>fixed acidity</th>\n",
       "      <th>volatile acidity</th>\n",
       "      <th>citric acid</th>\n",
       "      <th>residual sugar</th>\n",
       "      <th>chlorides</th>\n",
       "      <th>free sulfur dioxide</th>\n",
       "      <th>total sulfur dioxide</th>\n",
       "      <th>density</th>\n",
       "      <th>pH</th>\n",
       "      <th>sulphates</th>\n",
       "      <th>alcohol</th>\n",
       "      <th>quality</th>\n",
       "    </tr>\n",
       "  </thead>\n",
       "  <tbody>\n",
       "    <tr>\n",
       "      <th>count</th>\n",
       "      <td>4898.000000</td>\n",
       "      <td>4898.000000</td>\n",
       "      <td>4898.000000</td>\n",
       "      <td>4898.000000</td>\n",
       "      <td>4898.000000</td>\n",
       "      <td>4898.000000</td>\n",
       "      <td>4898.000000</td>\n",
       "      <td>4898.000000</td>\n",
       "      <td>4898.000000</td>\n",
       "      <td>4898.000000</td>\n",
       "      <td>4898.000000</td>\n",
       "      <td>4898.000000</td>\n",
       "    </tr>\n",
       "    <tr>\n",
       "      <th>mean</th>\n",
       "      <td>6.854788</td>\n",
       "      <td>0.278241</td>\n",
       "      <td>0.334192</td>\n",
       "      <td>6.391415</td>\n",
       "      <td>0.045772</td>\n",
       "      <td>35.308085</td>\n",
       "      <td>138.360657</td>\n",
       "      <td>0.994027</td>\n",
       "      <td>3.188267</td>\n",
       "      <td>0.489847</td>\n",
       "      <td>10.514267</td>\n",
       "      <td>5.877909</td>\n",
       "    </tr>\n",
       "    <tr>\n",
       "      <th>std</th>\n",
       "      <td>0.843868</td>\n",
       "      <td>0.100795</td>\n",
       "      <td>0.121020</td>\n",
       "      <td>5.072058</td>\n",
       "      <td>0.021848</td>\n",
       "      <td>17.007137</td>\n",
       "      <td>42.498065</td>\n",
       "      <td>0.002991</td>\n",
       "      <td>0.151001</td>\n",
       "      <td>0.114126</td>\n",
       "      <td>1.230621</td>\n",
       "      <td>0.885639</td>\n",
       "    </tr>\n",
       "    <tr>\n",
       "      <th>min</th>\n",
       "      <td>3.800000</td>\n",
       "      <td>0.080000</td>\n",
       "      <td>0.000000</td>\n",
       "      <td>0.600000</td>\n",
       "      <td>0.009000</td>\n",
       "      <td>2.000000</td>\n",
       "      <td>9.000000</td>\n",
       "      <td>0.987110</td>\n",
       "      <td>2.720000</td>\n",
       "      <td>0.220000</td>\n",
       "      <td>8.000000</td>\n",
       "      <td>3.000000</td>\n",
       "    </tr>\n",
       "    <tr>\n",
       "      <th>25%</th>\n",
       "      <td>6.300000</td>\n",
       "      <td>0.210000</td>\n",
       "      <td>0.270000</td>\n",
       "      <td>1.700000</td>\n",
       "      <td>0.036000</td>\n",
       "      <td>23.000000</td>\n",
       "      <td>108.000000</td>\n",
       "      <td>0.991723</td>\n",
       "      <td>3.090000</td>\n",
       "      <td>0.410000</td>\n",
       "      <td>9.500000</td>\n",
       "      <td>5.000000</td>\n",
       "    </tr>\n",
       "    <tr>\n",
       "      <th>50%</th>\n",
       "      <td>6.800000</td>\n",
       "      <td>0.260000</td>\n",
       "      <td>0.320000</td>\n",
       "      <td>5.200000</td>\n",
       "      <td>0.043000</td>\n",
       "      <td>34.000000</td>\n",
       "      <td>134.000000</td>\n",
       "      <td>0.993740</td>\n",
       "      <td>3.180000</td>\n",
       "      <td>0.470000</td>\n",
       "      <td>10.400000</td>\n",
       "      <td>6.000000</td>\n",
       "    </tr>\n",
       "    <tr>\n",
       "      <th>75%</th>\n",
       "      <td>7.300000</td>\n",
       "      <td>0.320000</td>\n",
       "      <td>0.390000</td>\n",
       "      <td>9.900000</td>\n",
       "      <td>0.050000</td>\n",
       "      <td>46.000000</td>\n",
       "      <td>167.000000</td>\n",
       "      <td>0.996100</td>\n",
       "      <td>3.280000</td>\n",
       "      <td>0.550000</td>\n",
       "      <td>11.400000</td>\n",
       "      <td>6.000000</td>\n",
       "    </tr>\n",
       "    <tr>\n",
       "      <th>max</th>\n",
       "      <td>14.200000</td>\n",
       "      <td>1.100000</td>\n",
       "      <td>1.660000</td>\n",
       "      <td>65.800000</td>\n",
       "      <td>0.346000</td>\n",
       "      <td>289.000000</td>\n",
       "      <td>440.000000</td>\n",
       "      <td>1.038980</td>\n",
       "      <td>3.820000</td>\n",
       "      <td>1.080000</td>\n",
       "      <td>14.200000</td>\n",
       "      <td>9.000000</td>\n",
       "    </tr>\n",
       "  </tbody>\n",
       "</table>\n",
       "</div>"
      ],
      "text/plain": [
       "       fixed acidity  volatile acidity  citric acid  residual sugar  \\\n",
       "count    4898.000000       4898.000000  4898.000000     4898.000000   \n",
       "mean        6.854788          0.278241     0.334192        6.391415   \n",
       "std         0.843868          0.100795     0.121020        5.072058   \n",
       "min         3.800000          0.080000     0.000000        0.600000   \n",
       "25%         6.300000          0.210000     0.270000        1.700000   \n",
       "50%         6.800000          0.260000     0.320000        5.200000   \n",
       "75%         7.300000          0.320000     0.390000        9.900000   \n",
       "max        14.200000          1.100000     1.660000       65.800000   \n",
       "\n",
       "         chlorides  free sulfur dioxide  total sulfur dioxide      density  \\\n",
       "count  4898.000000          4898.000000           4898.000000  4898.000000   \n",
       "mean      0.045772            35.308085            138.360657     0.994027   \n",
       "std       0.021848            17.007137             42.498065     0.002991   \n",
       "min       0.009000             2.000000              9.000000     0.987110   \n",
       "25%       0.036000            23.000000            108.000000     0.991723   \n",
       "50%       0.043000            34.000000            134.000000     0.993740   \n",
       "75%       0.050000            46.000000            167.000000     0.996100   \n",
       "max       0.346000           289.000000            440.000000     1.038980   \n",
       "\n",
       "                pH    sulphates      alcohol      quality  \n",
       "count  4898.000000  4898.000000  4898.000000  4898.000000  \n",
       "mean      3.188267     0.489847    10.514267     5.877909  \n",
       "std       0.151001     0.114126     1.230621     0.885639  \n",
       "min       2.720000     0.220000     8.000000     3.000000  \n",
       "25%       3.090000     0.410000     9.500000     5.000000  \n",
       "50%       3.180000     0.470000    10.400000     6.000000  \n",
       "75%       3.280000     0.550000    11.400000     6.000000  \n",
       "max       3.820000     1.080000    14.200000     9.000000  "
      ]
     },
     "execution_count": 8,
     "metadata": {},
     "output_type": "execute_result"
    }
   ],
   "source": [
    "df.describe()"
   ]
  },
  {
   "cell_type": "markdown",
   "id": "4ee44aff",
   "metadata": {},
   "source": [
    "The table above shows the mean value, std (standard deviation), minimum, maximum value and 25%, 50%, 75% of each value in the dataset. It allows seeing if there are anomalies in the dataset, for example, if a pH value is beyond the pH scale (0-14) or if the alcohol content is unusually low or high for a wine.\n",
    "\n",
    "The row 25% represents that quarter of all values are lower than the 25% value. For a better understanding of the quantiles look at the code below.\n"
   ]
  },
  {
   "cell_type": "code",
   "execution_count": 9,
   "id": "3abe478a",
   "metadata": {},
   "outputs": [
    {
     "name": "stdout",
     "output_type": "stream",
     "text": [
      "Percentage of wines with the alcohol less than 9.5 is 25.0 %\n"
     ]
    }
   ],
   "source": [
    "# number of rows of wines in the dataset with alcohol < 9.5\n",
    "n = df[df.alcohol < 9.5].shape[0]\n",
    "\n",
    "# print the percentage of those\n",
    "print ('Percentage of wines with the alcohol less than 9.5 is',round(n/df.shape[0],2)*100,'%')"
   ]
  },
  {
   "cell_type": "markdown",
   "id": "514a4589",
   "metadata": {},
   "source": [
    "For a better visual understanding of the data, a histogram for each input feature was created."
   ]
  },
  {
   "cell_type": "code",
   "execution_count": 10,
   "id": "ccc53d78",
   "metadata": {},
   "outputs": [
    {
     "data": {
      "image/png": "[encoded data removed]",
      "text/plain": [
       "<Figure size 1080x720 with 12 Axes>"
      ]
     },
     "metadata": {},
     "output_type": "display_data"
    }
   ],
   "source": [
    "input_values = [\"fixed acidity\",\"volatile acidity\",\"citric acid\",\"residual sugar\",\"chlorides\",\"free sulfur dioxide\",\"total sulfur dioxide\",\"density\",\"pH\",\"sulphates\",\"alcohol\"]\n",
    "df[input_values].hist(bins=50,figsize=(15,10))\n",
    "plt.show()\n"
   ]
  },
  {
   "cell_type": "markdown",
   "id": "0dcb9ec2",
   "metadata": {},
   "source": [
    "The diagrams for the suplhate or volatile acidity are on a scale from 0.0 to around 1.0 when for the total sulfur dioxide or free sulfur dioxide the scale goes from 0 to 300 or 400 units. This difference suggests that the data may need feature scaling before training a model."
   ]
  },
  {
   "cell_type": "markdown",
   "id": "216d1cf9",
   "metadata": {},
   "source": [
    "# Data Pre-processing "
   ]
  },
  {
   "cell_type": "markdown",
   "id": "35e3e7fb",
   "metadata": {},
   "source": [
    "## Split the data"
   ]
  },
  {
   "cell_type": "markdown",
   "id": "ccc8f3c6",
   "metadata": {},
   "source": [
    "Splitting the data into input features (X) and output features (y) will help in further processing the data. "
   ]
  },
  {
   "cell_type": "code",
   "execution_count": 11,
   "id": "9c005314",
   "metadata": {},
   "outputs": [],
   "source": [
    "# store all rows and columns apart from last column(quality) in X\n",
    "X = df.iloc[:,:(df.shape[1]-1)]\n",
    "y = df['quality']"
   ]
  },
  {
   "cell_type": "code",
   "execution_count": 12,
   "id": "f0066c3f",
   "metadata": {
    "scrolled": true
   },
   "outputs": [
    {
     "name": "stdout",
     "output_type": "stream",
     "text": [
      "<class 'pandas.core.frame.DataFrame'>\n",
      "RangeIndex: 4898 entries, 0 to 4897\n",
      "Data columns (total 11 columns):\n",
      " #   Column                Non-Null Count  Dtype  \n",
      "---  ------                --------------  -----  \n",
      " 0   fixed acidity         4898 non-null   float64\n",
      " 1   volatile acidity      4898 non-null   float64\n",
      " 2   citric acid           4898 non-null   float64\n",
      " 3   residual sugar        4898 non-null   float64\n",
      " 4   chlorides             4898 non-null   float64\n",
      " 5   free sulfur dioxide   4898 non-null   float64\n",
      " 6   total sulfur dioxide  4898 non-null   float64\n",
      " 7   density               4898 non-null   float64\n",
      " 8   pH                    4898 non-null   float64\n",
      " 9   sulphates             4898 non-null   float64\n",
      " 10  alcohol               4898 non-null   float64\n",
      "dtypes: float64(11)\n",
      "memory usage: 421.0 KB\n"
     ]
    }
   ],
   "source": [
    "X.info()"
   ]
  },
  {
   "cell_type": "markdown",
   "id": "d8a78b9b",
   "metadata": {},
   "source": [
    "The code above is checking that the quality column is not included in the input features (X) "
   ]
  },
  {
   "cell_type": "markdown",
   "id": "4ee02323",
   "metadata": {},
   "source": [
    "## Normalising the data "
   ]
  },
  {
   "cell_type": "code",
   "execution_count": 13,
   "id": "a107a5a9",
   "metadata": {},
   "outputs": [
    {
     "data": {
      "text/html": [
       "<div>\n",
       "<style scoped>\n",
       "    .dataframe tbody tr th:only-of-type {\n",
       "        vertical-align: middle;\n",
       "    }\n",
       "\n",
       "    .dataframe tbody tr th {\n",
       "        vertical-align: top;\n",
       "    }\n",
       "\n",
       "    .dataframe thead th {\n",
       "        text-align: right;\n",
       "    }\n",
       "</style>\n",
       "<table border=\"1\" class=\"dataframe\">\n",
       "  <thead>\n",
       "    <tr style=\"text-align: right;\">\n",
       "      <th></th>\n",
       "      <th>fixed acidity</th>\n",
       "      <th>volatile acidity</th>\n",
       "      <th>citric acid</th>\n",
       "      <th>residual sugar</th>\n",
       "      <th>chlorides</th>\n",
       "      <th>free sulfur dioxide</th>\n",
       "      <th>total sulfur dioxide</th>\n",
       "      <th>density</th>\n",
       "      <th>pH</th>\n",
       "      <th>sulphates</th>\n",
       "      <th>alcohol</th>\n",
       "    </tr>\n",
       "  </thead>\n",
       "  <tbody>\n",
       "    <tr>\n",
       "      <th>0</th>\n",
       "      <td>7.0</td>\n",
       "      <td>0.27</td>\n",
       "      <td>0.36</td>\n",
       "      <td>20.7</td>\n",
       "      <td>0.045</td>\n",
       "      <td>45.0</td>\n",
       "      <td>170.0</td>\n",
       "      <td>1.0010</td>\n",
       "      <td>3.00</td>\n",
       "      <td>0.45</td>\n",
       "      <td>8.8</td>\n",
       "    </tr>\n",
       "    <tr>\n",
       "      <th>1</th>\n",
       "      <td>6.3</td>\n",
       "      <td>0.30</td>\n",
       "      <td>0.34</td>\n",
       "      <td>1.6</td>\n",
       "      <td>0.049</td>\n",
       "      <td>14.0</td>\n",
       "      <td>132.0</td>\n",
       "      <td>0.9940</td>\n",
       "      <td>3.30</td>\n",
       "      <td>0.49</td>\n",
       "      <td>9.5</td>\n",
       "    </tr>\n",
       "    <tr>\n",
       "      <th>2</th>\n",
       "      <td>8.1</td>\n",
       "      <td>0.28</td>\n",
       "      <td>0.40</td>\n",
       "      <td>6.9</td>\n",
       "      <td>0.050</td>\n",
       "      <td>30.0</td>\n",
       "      <td>97.0</td>\n",
       "      <td>0.9951</td>\n",
       "      <td>3.26</td>\n",
       "      <td>0.44</td>\n",
       "      <td>10.1</td>\n",
       "    </tr>\n",
       "    <tr>\n",
       "      <th>3</th>\n",
       "      <td>7.2</td>\n",
       "      <td>0.23</td>\n",
       "      <td>0.32</td>\n",
       "      <td>8.5</td>\n",
       "      <td>0.058</td>\n",
       "      <td>47.0</td>\n",
       "      <td>186.0</td>\n",
       "      <td>0.9956</td>\n",
       "      <td>3.19</td>\n",
       "      <td>0.40</td>\n",
       "      <td>9.9</td>\n",
       "    </tr>\n",
       "    <tr>\n",
       "      <th>4</th>\n",
       "      <td>7.2</td>\n",
       "      <td>0.23</td>\n",
       "      <td>0.32</td>\n",
       "      <td>8.5</td>\n",
       "      <td>0.058</td>\n",
       "      <td>47.0</td>\n",
       "      <td>186.0</td>\n",
       "      <td>0.9956</td>\n",
       "      <td>3.19</td>\n",
       "      <td>0.40</td>\n",
       "      <td>9.9</td>\n",
       "    </tr>\n",
       "  </tbody>\n",
       "</table>\n",
       "</div>"
      ],
      "text/plain": [
       "   fixed acidity  volatile acidity  citric acid  residual sugar  chlorides  \\\n",
       "0            7.0              0.27         0.36            20.7      0.045   \n",
       "1            6.3              0.30         0.34             1.6      0.049   \n",
       "2            8.1              0.28         0.40             6.9      0.050   \n",
       "3            7.2              0.23         0.32             8.5      0.058   \n",
       "4            7.2              0.23         0.32             8.5      0.058   \n",
       "\n",
       "   free sulfur dioxide  total sulfur dioxide  density    pH  sulphates  \\\n",
       "0                 45.0                 170.0   1.0010  3.00       0.45   \n",
       "1                 14.0                 132.0   0.9940  3.30       0.49   \n",
       "2                 30.0                  97.0   0.9951  3.26       0.44   \n",
       "3                 47.0                 186.0   0.9956  3.19       0.40   \n",
       "4                 47.0                 186.0   0.9956  3.19       0.40   \n",
       "\n",
       "   alcohol  \n",
       "0      8.8  \n",
       "1      9.5  \n",
       "2     10.1  \n",
       "3      9.9  \n",
       "4      9.9  "
      ]
     },
     "execution_count": 13,
     "metadata": {},
     "output_type": "execute_result"
    }
   ],
   "source": [
    "X.head()"
   ]
  },
  {
   "cell_type": "markdown",
   "id": "35484640",
   "metadata": {},
   "source": [
    "As it was discovered in the data exploration part, the input features are of very different scales. For better performance of Machine Learning algorithms, it is good practice to normalise the data. In this case, using a Min-Max Approach, it rescales all values into a range between 0 and 1. The formula can be expressed as: $$ x_{scaled} = \\frac{x - x_{min}}{x_{max} - x_{min}} \\\\ $$"
   ]
  },
  {
   "cell_type": "code",
   "execution_count": 14,
   "id": "046bddcc",
   "metadata": {},
   "outputs": [],
   "source": [
    "def normalise(x):\n",
    "    return (x - min(x))/(max(x)-min(x))\n",
    "\n",
    "# X normalised \n",
    "X_n = X.copy(deep=True) \n",
    "X_n = X_n.apply(lambda x: normalise(x))\n"
   ]
  },
  {
   "cell_type": "markdown",
   "id": "3de01e45",
   "metadata": {},
   "source": [
    "In the code above I make a deep copy of the input values, a deep copy is used because any modification of the data will not be reflected in the original. Then the normalise function was applied to every value in the data frame. The normalised data frame can be seen in the table below. As said before, the minimum of all input values is now 0.0 and the maximum 1.0. "
   ]
  },
  {
   "cell_type": "code",
   "execution_count": 15,
   "id": "ea7a5cc1",
   "metadata": {
    "scrolled": true
   },
   "outputs": [
    {
     "data": {
      "text/html": [
       "<div>\n",
       "<style scoped>\n",
       "    .dataframe tbody tr th:only-of-type {\n",
       "        vertical-align: middle;\n",
       "    }\n",
       "\n",
       "    .dataframe tbody tr th {\n",
       "        vertical-align: top;\n",
       "    }\n",
       "\n",
       "    .dataframe thead th {\n",
       "        text-align: right;\n",
       "    }\n",
       "</style>\n",
       "<table border=\"1\" class=\"dataframe\">\n",
       "  <thead>\n",
       "    <tr style=\"text-align: right;\">\n",
       "      <th></th>\n",
       "      <th>fixed acidity</th>\n",
       "      <th>volatile acidity</th>\n",
       "      <th>citric acid</th>\n",
       "      <th>residual sugar</th>\n",
       "      <th>chlorides</th>\n",
       "      <th>free sulfur dioxide</th>\n",
       "      <th>total sulfur dioxide</th>\n",
       "      <th>density</th>\n",
       "      <th>pH</th>\n",
       "      <th>sulphates</th>\n",
       "      <th>alcohol</th>\n",
       "    </tr>\n",
       "  </thead>\n",
       "  <tbody>\n",
       "    <tr>\n",
       "      <th>count</th>\n",
       "      <td>4898.000000</td>\n",
       "      <td>4898.000000</td>\n",
       "      <td>4898.000000</td>\n",
       "      <td>4898.000000</td>\n",
       "      <td>4898.000000</td>\n",
       "      <td>4898.000000</td>\n",
       "      <td>4898.000000</td>\n",
       "      <td>4898.000000</td>\n",
       "      <td>4898.000000</td>\n",
       "      <td>4898.000000</td>\n",
       "      <td>4898.000000</td>\n",
       "    </tr>\n",
       "    <tr>\n",
       "      <th>mean</th>\n",
       "      <td>0.293730</td>\n",
       "      <td>0.194354</td>\n",
       "      <td>0.201320</td>\n",
       "      <td>0.088825</td>\n",
       "      <td>0.109117</td>\n",
       "      <td>0.116056</td>\n",
       "      <td>0.300141</td>\n",
       "      <td>0.133360</td>\n",
       "      <td>0.425697</td>\n",
       "      <td>0.313775</td>\n",
       "      <td>0.405527</td>\n",
       "    </tr>\n",
       "    <tr>\n",
       "      <th>std</th>\n",
       "      <td>0.081141</td>\n",
       "      <td>0.098818</td>\n",
       "      <td>0.072903</td>\n",
       "      <td>0.077792</td>\n",
       "      <td>0.064831</td>\n",
       "      <td>0.059258</td>\n",
       "      <td>0.098603</td>\n",
       "      <td>0.057662</td>\n",
       "      <td>0.137273</td>\n",
       "      <td>0.132704</td>\n",
       "      <td>0.198487</td>\n",
       "    </tr>\n",
       "    <tr>\n",
       "      <th>min</th>\n",
       "      <td>0.000000</td>\n",
       "      <td>0.000000</td>\n",
       "      <td>0.000000</td>\n",
       "      <td>0.000000</td>\n",
       "      <td>0.000000</td>\n",
       "      <td>0.000000</td>\n",
       "      <td>0.000000</td>\n",
       "      <td>0.000000</td>\n",
       "      <td>0.000000</td>\n",
       "      <td>0.000000</td>\n",
       "      <td>0.000000</td>\n",
       "    </tr>\n",
       "    <tr>\n",
       "      <th>25%</th>\n",
       "      <td>0.240385</td>\n",
       "      <td>0.127451</td>\n",
       "      <td>0.162651</td>\n",
       "      <td>0.016871</td>\n",
       "      <td>0.080119</td>\n",
       "      <td>0.073171</td>\n",
       "      <td>0.229698</td>\n",
       "      <td>0.088924</td>\n",
       "      <td>0.336364</td>\n",
       "      <td>0.220930</td>\n",
       "      <td>0.241935</td>\n",
       "    </tr>\n",
       "    <tr>\n",
       "      <th>50%</th>\n",
       "      <td>0.288462</td>\n",
       "      <td>0.176471</td>\n",
       "      <td>0.192771</td>\n",
       "      <td>0.070552</td>\n",
       "      <td>0.100890</td>\n",
       "      <td>0.111498</td>\n",
       "      <td>0.290023</td>\n",
       "      <td>0.127820</td>\n",
       "      <td>0.418182</td>\n",
       "      <td>0.290698</td>\n",
       "      <td>0.387097</td>\n",
       "    </tr>\n",
       "    <tr>\n",
       "      <th>75%</th>\n",
       "      <td>0.336538</td>\n",
       "      <td>0.235294</td>\n",
       "      <td>0.234940</td>\n",
       "      <td>0.142638</td>\n",
       "      <td>0.121662</td>\n",
       "      <td>0.153310</td>\n",
       "      <td>0.366589</td>\n",
       "      <td>0.173318</td>\n",
       "      <td>0.509091</td>\n",
       "      <td>0.383721</td>\n",
       "      <td>0.548387</td>\n",
       "    </tr>\n",
       "    <tr>\n",
       "      <th>max</th>\n",
       "      <td>1.000000</td>\n",
       "      <td>1.000000</td>\n",
       "      <td>1.000000</td>\n",
       "      <td>1.000000</td>\n",
       "      <td>1.000000</td>\n",
       "      <td>1.000000</td>\n",
       "      <td>1.000000</td>\n",
       "      <td>1.000000</td>\n",
       "      <td>1.000000</td>\n",
       "      <td>1.000000</td>\n",
       "      <td>1.000000</td>\n",
       "    </tr>\n",
       "  </tbody>\n",
       "</table>\n",
       "</div>"
      ],
      "text/plain": [
       "       fixed acidity  volatile acidity  citric acid  residual sugar  \\\n",
       "count    4898.000000       4898.000000  4898.000000     4898.000000   \n",
       "mean        0.293730          0.194354     0.201320        0.088825   \n",
       "std         0.081141          0.098818     0.072903        0.077792   \n",
       "min         0.000000          0.000000     0.000000        0.000000   \n",
       "25%         0.240385          0.127451     0.162651        0.016871   \n",
       "50%         0.288462          0.176471     0.192771        0.070552   \n",
       "75%         0.336538          0.235294     0.234940        0.142638   \n",
       "max         1.000000          1.000000     1.000000        1.000000   \n",
       "\n",
       "         chlorides  free sulfur dioxide  total sulfur dioxide      density  \\\n",
       "count  4898.000000          4898.000000           4898.000000  4898.000000   \n",
       "mean      0.109117             0.116056              0.300141     0.133360   \n",
       "std       0.064831             0.059258              0.098603     0.057662   \n",
       "min       0.000000             0.000000              0.000000     0.000000   \n",
       "25%       0.080119             0.073171              0.229698     0.088924   \n",
       "50%       0.100890             0.111498              0.290023     0.127820   \n",
       "75%       0.121662             0.153310              0.366589     0.173318   \n",
       "max       1.000000             1.000000              1.000000     1.000000   \n",
       "\n",
       "                pH    sulphates      alcohol  \n",
       "count  4898.000000  4898.000000  4898.000000  \n",
       "mean      0.425697     0.313775     0.405527  \n",
       "std       0.137273     0.132704     0.198487  \n",
       "min       0.000000     0.000000     0.000000  \n",
       "25%       0.336364     0.220930     0.241935  \n",
       "50%       0.418182     0.290698     0.387097  \n",
       "75%       0.509091     0.383721     0.548387  \n",
       "max       1.000000     1.000000     1.000000  "
      ]
     },
     "execution_count": 15,
     "metadata": {},
     "output_type": "execute_result"
    }
   ],
   "source": [
    "X_n.describe()"
   ]
  },
  {
   "cell_type": "markdown",
   "id": "a4105389",
   "metadata": {},
   "source": [
    "## Test and Training data\n",
    "To prevent aritificial data points in the testing dataset, the data will be split before sampling. It allow to objectively evaluate the model. The whole data is split into 25% test and 75% train data. "
   ]
  },
  {
   "cell_type": "code",
   "execution_count": 16,
   "id": "34811339",
   "metadata": {},
   "outputs": [],
   "source": [
    "from sklearn.model_selection import train_test_split\n",
    "X_train, X_test, y_train, y_test = train_test_split(X_n, y, test_size=0.25, random_state = 42)"
   ]
  },
  {
   "cell_type": "markdown",
   "id": "1fc42475",
   "metadata": {},
   "source": [
    "Checking the size of the train and test data."
   ]
  },
  {
   "cell_type": "code",
   "execution_count": 17,
   "id": "86a1b053",
   "metadata": {},
   "outputs": [
    {
     "name": "stdout",
     "output_type": "stream",
     "text": [
      "The size of the Training dataset is 3673\n",
      "The size of the Test dataset is 1225\n"
     ]
    }
   ],
   "source": [
    "print(f'The size of the Training dataset is {X_train.shape[0]}')\n",
    "print(f'The size of the Test dataset is {X_test.shape[0]}')"
   ]
  },
  {
   "cell_type": "markdown",
   "id": "d76e0d83",
   "metadata": {},
   "source": [
    "## Sampling "
   ]
  },
  {
   "cell_type": "markdown",
   "id": "14d51565",
   "metadata": {},
   "source": [
    "As discussed in the class distribution section, the data is imbalanced and training with this data could lead to a biased model. Therefore, to address this issue a sampling technique could be used. There are many options, one of them is undersampling. Which would delete data samples until the classes were evenly distributed. Unfortunately, it comes with a high cost of lost data and a dataset of 4898 records along with many output classes suggest it is not the best approach. \n",
    "On the other hand, is oversampling, which generates new data samples. Random oversampling duplicates randomly data samples which will close the gap in the class distribution, but it will cause overfitting. (Yap et al. 2013) Another method is SMOTE (Synthetic Minority Oversampling) which generates completely new synthetic data using a neighbourhood-based technique  (Chawla et al. 2002). It has been proven that other sampling methods could achieve a better result, (Gosain and Sardana 2017) (Elyan, Moreno-Garcia and Jayne 2020), but having in mind the scale of this work the SMOTE method will probably produce an acceptable result. However, it is still prone to overfitting, especially when oversampling a small number of samples. Therefore when improving the solution it is worth considering enhancing this approach. "
   ]
  },
  {
   "cell_type": "code",
   "execution_count": 18,
   "id": "f2cd4752",
   "metadata": {
    "scrolled": false
   },
   "outputs": [
    {
     "name": "stdout",
     "output_type": "stream",
     "text": [
      "Requirement already satisfied: imbalanced-learn in c:\\users\\pawel\\anaconda3\\lib\\site-packages (0.8.1)\n",
      "Requirement already satisfied: joblib>=0.11 in c:\\users\\pawel\\anaconda3\\lib\\site-packages (from imbalanced-learn) (1.0.1)\n",
      "Requirement already satisfied: numpy>=1.13.3 in c:\\users\\pawel\\anaconda3\\lib\\site-packages (from imbalanced-learn) (1.20.1)\n",
      "Requirement already satisfied: scipy>=0.19.1 in c:\\users\\pawel\\anaconda3\\lib\\site-packages (from imbalanced-learn) (1.6.2)\n",
      "Requirement already satisfied: scikit-learn>=0.24 in c:\\users\\pawel\\anaconda3\\lib\\site-packages (from imbalanced-learn) (1.0.2)\n",
      "Requirement already satisfied: threadpoolctl>=2.0.0 in c:\\users\\pawel\\anaconda3\\lib\\site-packages (from scikit-learn>=0.24->imbalanced-learn) (2.1.0)\n",
      "Note: you may need to restart the kernel to use updated packages.\n"
     ]
    }
   ],
   "source": [
    "pip install imbalanced-learn"
   ]
  },
  {
   "cell_type": "markdown",
   "id": "65f7b948",
   "metadata": {},
   "source": [
    "The code above will download the necessary packages if they are not already installed on the machine. "
   ]
  },
  {
   "cell_type": "code",
   "execution_count": 19,
   "id": "1a076480",
   "metadata": {},
   "outputs": [],
   "source": [
    "# code based on https://imbalanced-learn.org/stable/references/generated/imblearn.over_sampling.SMOTE.html\n",
    "from imblearn.over_sampling import SMOTE\n",
    "\n",
    "smote = SMOTE(random_state=42, k_neighbors=4)\n",
    "X_train_s, y_train_s = smote.fit_resample(X_train, y_train)"
   ]
  },
  {
   "cell_type": "markdown",
   "id": "9caaee2c",
   "metadata": {},
   "source": [
    "The code creates a SMOTE object with random_state=42, it determines the seed for the random number generator, and k_neighbors=4 which indicates the number of nearest neighbours to used to construct synthetic samples. When considering the quality of 9, which has only 5 samples the maximum k_neighbors value is 4. Afterwards, it creates the new resampled dataset. The code below presents the number of samples before and after oversampling. "
   ]
  },
  {
   "cell_type": "code",
   "execution_count": 20,
   "id": "e45f364d",
   "metadata": {},
   "outputs": [
    {
     "data": {
      "text/plain": [
       "6    1654\n",
       "5    1099\n",
       "7     639\n",
       "8     132\n",
       "4     131\n",
       "3      13\n",
       "9       5\n",
       "Name: quality, dtype: int64"
      ]
     },
     "execution_count": 20,
     "metadata": {},
     "output_type": "execute_result"
    }
   ],
   "source": [
    "y_train.value_counts()"
   ]
  },
  {
   "cell_type": "code",
   "execution_count": 21,
   "id": "2af5d5a8",
   "metadata": {},
   "outputs": [
    {
     "data": {
      "text/plain": [
       "8    1654\n",
       "9    1654\n",
       "3    1654\n",
       "4    1654\n",
       "5    1654\n",
       "6    1654\n",
       "7    1654\n",
       "Name: quality, dtype: int64"
      ]
     },
     "execution_count": 21,
     "metadata": {},
     "output_type": "execute_result"
    }
   ],
   "source": [
    "y_train_s.value_counts()"
   ]
  },
  {
   "cell_type": "code",
   "execution_count": 22,
   "id": "a6031529",
   "metadata": {},
   "outputs": [
    {
     "data": {
      "image/png": "[encoded data removed]",
      "text/plain": [
       "<Figure size 504x360 with 1 Axes>"
      ]
     },
     "metadata": {},
     "output_type": "display_data"
    }
   ],
   "source": [
    "# based on https://stackoverflow.com/a/39481709/\n",
    "plt.hist([y_train, y_train_s], bins=7, label=['y train', 'y train resampled'])\n",
    "plt.legend(loc='upper left')\n",
    "plt.show()"
   ]
  },
  {
   "cell_type": "markdown",
   "id": "351fa9f0",
   "metadata": {},
   "source": [
    "The diagram above visually presents the number of samples before and after oversampling."
   ]
  },
  {
   "cell_type": "markdown",
   "id": "d679f2f9",
   "metadata": {},
   "source": [
    "# Modeling / Classification "
   ]
  },
  {
   "cell_type": "markdown",
   "id": "165319d2",
   "metadata": {},
   "source": [
    "Random Forest Classifier was chosen as the classification model. Studies on this dataset chose NN and SVM (Cortez et al. 2009), others enhance these models by using only selected features for classification. (Gupta 2018) However, studies suggest that Random Forest has excellent classification accuracy and significant superiority when training samples are limited. (Han et al. 2017) Furthermore, a study compared 179 classifiers from 17 families using 121 data sets from the UCI repository and concluded that Random Forest is most likely to be the best classifier family. (Fernandez-Delgado et al. 2014)"
   ]
  },
  {
   "cell_type": "markdown",
   "id": "ea6bcf98",
   "metadata": {},
   "source": [
    "## Builing a Random Forest Classifier model "
   ]
  },
  {
   "cell_type": "code",
   "execution_count": 23,
   "id": "59bb0b34",
   "metadata": {},
   "outputs": [
    {
     "name": "stdout",
     "output_type": "stream",
     "text": [
      "The parameters of this Random Forest Classifier model are:\n",
      "{'bootstrap': True,\n",
      " 'ccp_alpha': 0.0,\n",
      " 'class_weight': None,\n",
      " 'criterion': 'gini',\n",
      " 'max_depth': None,\n",
      " 'max_features': 'auto',\n",
      " 'max_leaf_nodes': None,\n",
      " 'max_samples': None,\n",
      " 'min_impurity_decrease': 0.0,\n",
      " 'min_samples_leaf': 1,\n",
      " 'min_samples_split': 2,\n",
      " 'min_weight_fraction_leaf': 0.0,\n",
      " 'n_estimators': 100,\n",
      " 'n_jobs': None,\n",
      " 'oob_score': False,\n",
      " 'random_state': None,\n",
      " 'verbose': 0,\n",
      " 'warm_start': False}\n"
     ]
    },
    {
     "data": {
      "text/plain": [
       "RandomForestClassifier()"
      ]
     },
     "execution_count": 23,
     "metadata": {},
     "output_type": "execute_result"
    }
   ],
   "source": [
    "import pprint\n",
    "from sklearn.ensemble import RandomForestClassifier\n",
    "\n",
    "# create an instance of RandomForestClassifier using the defaul parameter \n",
    "rf = RandomForestClassifier()\n",
    "\n",
    "print('The parameters of this Random Forest Classifier model are:')\n",
    "# pprint is here used for better looking output \n",
    "pprint.pprint(rf.get_params())\n",
    "\n",
    "\n",
    "# fit the model on training data\n",
    "# the data was split already before\n",
    "rf.fit(X_train_s, y_train_s)\n"
   ]
  },
  {
   "cell_type": "markdown",
   "id": "f65748b1",
   "metadata": {},
   "source": [
    "## Testing and evaluating the model"
   ]
  },
  {
   "cell_type": "markdown",
   "id": "08af9523",
   "metadata": {},
   "source": [
    "### Training error"
   ]
  },
  {
   "cell_type": "code",
   "execution_count": 24,
   "id": "d45ea864",
   "metadata": {},
   "outputs": [
    {
     "name": "stdout",
     "output_type": "stream",
     "text": [
      "Random Forest Model Accuracy on the Train Data is 100.0%\n"
     ]
    }
   ],
   "source": [
    "from sklearn.metrics import accuracy_score\n",
    "from sklearn.metrics import classification_report, confusion_matrix\n",
    "\n",
    "# Predict values for the training set\n",
    "rf_predictions = rf.predict(X_train_s)\n",
    "\n",
    "accuracy = accuracy_score(y_train_s, rf_predictions)\n",
    "\n",
    "\n",
    "print(f'Random Forest Model Accuracy on the Train Data is {np.round(accuracy*100,2)}%')"
   ]
  },
  {
   "cell_type": "markdown",
   "id": "57e78e0c",
   "metadata": {},
   "source": [
    "The model is 100% accurate on the Train data. It is not a surprise, one of the reason is that 'max_depth' is set to 'none' which mean the node can expand until all leaves are pure or until all leaves contain less than min_samples_split samples which in this case is '2'. (\"Sklearn.Ensemble.Randomforestclassifier\" 2021) It suggests that the model overfits the data and could be improved in the Solution Improvement section."
   ]
  },
  {
   "cell_type": "markdown",
   "id": "45ad27a0",
   "metadata": {},
   "source": [
    "### Testing error"
   ]
  },
  {
   "cell_type": "code",
   "execution_count": 25,
   "id": "1411eef5",
   "metadata": {
    "scrolled": true
   },
   "outputs": [
    {
     "name": "stdout",
     "output_type": "stream",
     "text": [
      "Random Forest Model Accuracy on the Test Data is 63.76%\n",
      "              precision    recall  f1-score   support\n",
      "\n",
      "           3       0.17      0.14      0.15         7\n",
      "           4       0.30      0.44      0.35        32\n",
      "           5       0.67      0.71      0.69       358\n",
      "           6       0.70      0.62      0.65       544\n",
      "           7       0.60      0.65      0.62       241\n",
      "           8       0.42      0.49      0.45        43\n",
      "           9       0.00      0.00      0.00         0\n",
      "\n",
      "    accuracy                           0.64      1225\n",
      "   macro avg       0.41      0.43      0.42      1225\n",
      "weighted avg       0.65      0.64      0.64      1225\n",
      "\n"
     ]
    }
   ],
   "source": [
    "# Predict values for the test set\n",
    "rf_predictions = rf.predict(X_test)\n",
    "\n",
    "# calculate the accuracy for the test data\n",
    "accuracy = accuracy_score(y_test, rf_predictions)\n",
    "\n",
    "print(f'Random Forest Model Accuracy on the Test Data is {np.round(accuracy*100,2)}%')\n",
    "\n",
    "# ignore UndefinedMetricWarning\n",
    "import warnings\n",
    "warnings.filterwarnings(\"ignore\")\n",
    "\n",
    "print(classification_report(y_test, rf_predictions))"
   ]
  },
  {
   "cell_type": "markdown",
   "id": "b61ec346",
   "metadata": {},
   "source": [
    "The classification report shows the main classification metrics per class label. The Precision shows us a fraction of how many of the predicted values are correct and the Recall represents a fraction of how many values were predicted correctly. F1-score is a combination of Precision and Recall. Support represents the number of occurrences for each class in the test dataset. Precision, Recall, F1-score can be calculated using the following formulas: (TP - True Positive, FP - False Positive, FN - False Negative)"
   ]
  },
  {
   "cell_type": "markdown",
   "id": "c3647d55",
   "metadata": {},
   "source": [
    "$$ precission = \\frac{TP}{TP - FP} \\\\ $$\n",
    "$$ recall = \\frac{TP}{TP - FN} \\\\ $$\n",
    "$$ F1 = 2 * \\frac{precission * recall}{precission + recall} \\\\ $$\n"
   ]
  },
  {
   "cell_type": "markdown",
   "id": "0e1bd7b7",
   "metadata": {},
   "source": [
    "The classification report suggests that the model performs best on classifying the \"5\", \"6\", \"7\" values. These are also the most represented classes in the dataset."
   ]
  },
  {
   "cell_type": "code",
   "execution_count": 26,
   "id": "57627e86",
   "metadata": {},
   "outputs": [],
   "source": [
    "# a few function for easier presenting data \n",
    "\n",
    "\n",
    "def display_heatmap(actual, predicted):\n",
    "    # display formated heatmap\n",
    "    labels = sorted_unique_y_values()\n",
    "    sns.heatmap(confusion_matrix(actual,predicted),annot=True,fmt=\"d\",  xticklabels=labels, yticklabels=labels).set(xlabel='Predicted', ylabel='Actual')\n",
    "    \n",
    "\n",
    "def sorted_unique_y_values():\n",
    "    #get unique class values \n",
    "    labels = y.unique()\n",
    "    labels_s = np.sort(labels)\n",
    "    return labels_s"
   ]
  },
  {
   "cell_type": "code",
   "execution_count": 27,
   "id": "73be6faf",
   "metadata": {},
   "outputs": [
    {
     "data": {
      "image/png": "[encoded data removed]",
      "text/plain": [
       "<Figure size 504x360 with 2 Axes>"
      ]
     },
     "metadata": {},
     "output_type": "display_data"
    }
   ],
   "source": [
    "# display a confusion matrix in a form of a heatmap \n",
    "display_heatmap(y_test,rf_predictions)"
   ]
  },
  {
   "cell_type": "markdown",
   "id": "290af945",
   "metadata": {},
   "source": [
    "The heatmap above compares the actual values with the predicted. We can see that the predicted class is most of the time correct or not far off on the quality scale. (±1) "
   ]
  },
  {
   "cell_type": "markdown",
   "id": "6934e14d",
   "metadata": {},
   "source": [
    "\n"
   ]
  },
  {
   "cell_type": "code",
   "execution_count": 28,
   "id": "890b07df",
   "metadata": {},
   "outputs": [
    {
     "data": {
      "text/html": [
       "<div>\n",
       "<style scoped>\n",
       "    .dataframe tbody tr th:only-of-type {\n",
       "        vertical-align: middle;\n",
       "    }\n",
       "\n",
       "    .dataframe tbody tr th {\n",
       "        vertical-align: top;\n",
       "    }\n",
       "\n",
       "    .dataframe thead th {\n",
       "        text-align: right;\n",
       "    }\n",
       "</style>\n",
       "<table border=\"1\" class=\"dataframe\">\n",
       "  <thead>\n",
       "    <tr style=\"text-align: right;\">\n",
       "      <th></th>\n",
       "      <th>Actual</th>\n",
       "      <th>Predicted</th>\n",
       "      <th>isCorrect</th>\n",
       "    </tr>\n",
       "  </thead>\n",
       "  <tbody>\n",
       "    <tr>\n",
       "      <th>4656</th>\n",
       "      <td>7</td>\n",
       "      <td>7</td>\n",
       "      <td>True</td>\n",
       "    </tr>\n",
       "    <tr>\n",
       "      <th>3659</th>\n",
       "      <td>8</td>\n",
       "      <td>8</td>\n",
       "      <td>True</td>\n",
       "    </tr>\n",
       "    <tr>\n",
       "      <th>907</th>\n",
       "      <td>8</td>\n",
       "      <td>7</td>\n",
       "      <td>False</td>\n",
       "    </tr>\n",
       "    <tr>\n",
       "      <th>4352</th>\n",
       "      <td>5</td>\n",
       "      <td>5</td>\n",
       "      <td>True</td>\n",
       "    </tr>\n",
       "    <tr>\n",
       "      <th>3271</th>\n",
       "      <td>7</td>\n",
       "      <td>7</td>\n",
       "      <td>True</td>\n",
       "    </tr>\n",
       "  </tbody>\n",
       "</table>\n",
       "</div>"
      ],
      "text/plain": [
       "      Actual  Predicted  isCorrect\n",
       "4656       7          7       True\n",
       "3659       8          8       True\n",
       "907        8          7      False\n",
       "4352       5          5       True\n",
       "3271       7          7       True"
      ]
     },
     "execution_count": 28,
     "metadata": {},
     "output_type": "execute_result"
    }
   ],
   "source": [
    "# create a table with Actual value, Predicted Value and isCorrect\n",
    "\n",
    "# store actual class labels and predicted ones in a dataframe\n",
    "results = pd.DataFrame({'Actual':y_test,'Predicted':rf_predictions})\n",
    "\n",
    "# lets compare predictions against actual class labels\n",
    "check_predictions = np.where(results['Actual'] == results['Predicted'], True, False)\n",
    "\n",
    "results['isCorrect'] = check_predictions\n",
    "results.head()"
   ]
  },
  {
   "cell_type": "code",
   "execution_count": 29,
   "id": "e88f5f19",
   "metadata": {
    "scrolled": true
   },
   "outputs": [
    {
     "data": {
      "text/html": [
       "<div>\n",
       "<style scoped>\n",
       "    .dataframe tbody tr th:only-of-type {\n",
       "        vertical-align: middle;\n",
       "    }\n",
       "\n",
       "    .dataframe tbody tr th {\n",
       "        vertical-align: top;\n",
       "    }\n",
       "\n",
       "    .dataframe thead th {\n",
       "        text-align: right;\n",
       "    }\n",
       "</style>\n",
       "<table border=\"1\" class=\"dataframe\">\n",
       "  <thead>\n",
       "    <tr style=\"text-align: right;\">\n",
       "      <th></th>\n",
       "      <th>Quality</th>\n",
       "      <th>Count</th>\n",
       "    </tr>\n",
       "  </thead>\n",
       "  <tbody>\n",
       "    <tr>\n",
       "      <th>0</th>\n",
       "      <td>3</td>\n",
       "      <td>1</td>\n",
       "    </tr>\n",
       "    <tr>\n",
       "      <th>1</th>\n",
       "      <td>4</td>\n",
       "      <td>14</td>\n",
       "    </tr>\n",
       "    <tr>\n",
       "      <th>2</th>\n",
       "      <td>5</td>\n",
       "      <td>254</td>\n",
       "    </tr>\n",
       "    <tr>\n",
       "      <th>3</th>\n",
       "      <td>6</td>\n",
       "      <td>335</td>\n",
       "    </tr>\n",
       "    <tr>\n",
       "      <th>4</th>\n",
       "      <td>7</td>\n",
       "      <td>156</td>\n",
       "    </tr>\n",
       "    <tr>\n",
       "      <th>5</th>\n",
       "      <td>8</td>\n",
       "      <td>21</td>\n",
       "    </tr>\n",
       "  </tbody>\n",
       "</table>\n",
       "</div>"
      ],
      "text/plain": [
       "   Quality  Count\n",
       "0        3      1\n",
       "1        4     14\n",
       "2        5    254\n",
       "3        6    335\n",
       "4        7    156\n",
       "5        8     21"
      ]
     },
     "execution_count": 29,
     "metadata": {},
     "output_type": "execute_result"
    }
   ],
   "source": [
    "# group by features only correctly classified examples\n",
    "correct_insts = pd.DataFrame(results[results.isCorrect==True].groupby(['Actual'])['isCorrect'].count()).reset_index()\n",
    "# change headers\n",
    "correct_insts.columns = ['Quality','Count']\n",
    "# show dataframe\n",
    "correct_insts\n"
   ]
  },
  {
   "cell_type": "markdown",
   "id": "b574916c",
   "metadata": {},
   "source": [
    "The table above represents how many times each class was predicted correctly. "
   ]
  },
  {
   "cell_type": "code",
   "execution_count": 30,
   "id": "45cd10b4",
   "metadata": {},
   "outputs": [
    {
     "data": {
      "text/html": [
       "<div>\n",
       "<style scoped>\n",
       "    .dataframe tbody tr th:only-of-type {\n",
       "        vertical-align: middle;\n",
       "    }\n",
       "\n",
       "    .dataframe tbody tr th {\n",
       "        vertical-align: top;\n",
       "    }\n",
       "\n",
       "    .dataframe thead th {\n",
       "        text-align: right;\n",
       "    }\n",
       "</style>\n",
       "<table border=\"1\" class=\"dataframe\">\n",
       "  <thead>\n",
       "    <tr style=\"text-align: right;\">\n",
       "      <th></th>\n",
       "      <th>Quality</th>\n",
       "      <th>Count</th>\n",
       "    </tr>\n",
       "  </thead>\n",
       "  <tbody>\n",
       "    <tr>\n",
       "      <th>0</th>\n",
       "      <td>3</td>\n",
       "      <td>6</td>\n",
       "    </tr>\n",
       "    <tr>\n",
       "      <th>1</th>\n",
       "      <td>4</td>\n",
       "      <td>18</td>\n",
       "    </tr>\n",
       "    <tr>\n",
       "      <th>2</th>\n",
       "      <td>5</td>\n",
       "      <td>104</td>\n",
       "    </tr>\n",
       "    <tr>\n",
       "      <th>3</th>\n",
       "      <td>6</td>\n",
       "      <td>209</td>\n",
       "    </tr>\n",
       "    <tr>\n",
       "      <th>4</th>\n",
       "      <td>7</td>\n",
       "      <td>85</td>\n",
       "    </tr>\n",
       "    <tr>\n",
       "      <th>5</th>\n",
       "      <td>8</td>\n",
       "      <td>22</td>\n",
       "    </tr>\n",
       "  </tbody>\n",
       "</table>\n",
       "</div>"
      ],
      "text/plain": [
       "   Quality  Count\n",
       "0        3      6\n",
       "1        4     18\n",
       "2        5    104\n",
       "3        6    209\n",
       "4        7     85\n",
       "5        8     22"
      ]
     },
     "execution_count": 30,
     "metadata": {},
     "output_type": "execute_result"
    }
   ],
   "source": [
    "# group by features only incorrectly classified examples\n",
    "incorrect_insts = pd.DataFrame(results[results.isCorrect!=True].groupby(['Actual'])['isCorrect'].count()).reset_index()\n",
    "# change headers\n",
    "incorrect_insts.columns = ['Quality','Count']\n",
    "# show dataframe\n",
    "incorrect_insts\n"
   ]
  },
  {
   "cell_type": "markdown",
   "id": "31b1af85",
   "metadata": {},
   "source": [
    "The table above represents how many times each class was predicted incorrectly. \n"
   ]
  },
  {
   "cell_type": "code",
   "execution_count": 31,
   "id": "6e055853",
   "metadata": {},
   "outputs": [
    {
     "data": {
      "image/png": "[encoded data removed]",
      "text/plain": [
       "<Figure size 504x360 with 2 Axes>"
      ]
     },
     "metadata": {},
     "output_type": "display_data"
    }
   ],
   "source": [
    "# display a confusion matrix in a form of a heatmap only for false identified values\n",
    "\n",
    "false_predicted_true_value = results[results.isCorrect!=True].Actual\n",
    "false_predicted_predicted_value = results[results.isCorrect!=True].Predicted\n",
    "\n",
    "display_heatmap(false_predicted_true_value, false_predicted_predicted_value)\n"
   ]
  },
  {
   "cell_type": "markdown",
   "id": "6afbfbf9",
   "metadata": {},
   "source": [
    "Considering the nature of the problem, which is wine quality, we need to say that a bigger mistake is to classify a wine with the quality of 7, as a 3 than a 6. Therefore, alongside the usual Accuracy, a Small Error Acceptance Accuracy can be calculated in which a misclassification by 1 on the quality scale will not count as an error."
   ]
  },
  {
   "cell_type": "markdown",
   "id": "1d9a956e",
   "metadata": {},
   "source": [
    "$$ Small Error Acceptance Accuracy =  \\frac{correct + incorrectByOne}{total} \\\\ $$"
   ]
  },
  {
   "cell_type": "code",
   "execution_count": 32,
   "id": "4d55ec9c",
   "metadata": {},
   "outputs": [
    {
     "name": "stdout",
     "output_type": "stream",
     "text": [
      "Random Forest Model small error acceptance accuracy on the Test Data is 94.53%\n"
     ]
    }
   ],
   "source": [
    "total = results.shape[0]\n",
    "correct = results[results.isCorrect==True].shape[0]\n",
    "incorrect = results[results.isCorrect!=True]\n",
    "\n",
    "incorrect_by_one = 0\n",
    "\n",
    "# ittarate through all the data frame\n",
    "# count how many times the model was wrong by one \n",
    "for index, row in incorrect.iterrows():\n",
    "    difference = abs(row.Actual - row.Predicted)\n",
    "    if difference == 1:\n",
    "        incorrect_by_one = incorrect_by_one + 1\n",
    "        \n",
    "\n",
    "new_accuracy = (correct + incorrect_by_one) / total\n",
    "\n",
    "\n",
    "print(f'Random Forest Model small error acceptance accuracy on the Test Data is {np.round(new_accuracy*100,2)}%')"
   ]
  },
  {
   "cell_type": "code",
   "execution_count": 33,
   "id": "be451817",
   "metadata": {},
   "outputs": [
    {
     "name": "stdout",
     "output_type": "stream",
     "text": [
      "In 377 cases of a total of 1225 test cases the model is close to classify correctly.\n"
     ]
    }
   ],
   "source": [
    "print(f'In {incorrect_by_one} cases of a total of {total} test cases the model is close to classify correctly.')"
   ]
  },
  {
   "cell_type": "markdown",
   "id": "3a08c500",
   "metadata": {},
   "source": [
    "# Solution Improvement "
   ]
  },
  {
   "cell_type": "markdown",
   "id": "7c9959bf",
   "metadata": {},
   "source": [
    "## Creating and Evaluating Different Models"
   ]
  },
  {
   "cell_type": "code",
   "execution_count": 34,
   "id": "7f80041a",
   "metadata": {},
   "outputs": [],
   "source": [
    "# libraries for the various models\n",
    "from sklearn.tree import DecisionTreeClassifier\n",
    "from sklearn.svm import SVC\n",
    "\n",
    "\n",
    "# Instantiate the classfiers and make a list\n",
    "classifiers =[DecisionTreeClassifier(max_depth=25, random_state=15),\n",
    "                SVC(kernel='rbf', random_state=15),\n",
    "                RandomForestClassifier(n_estimators=100,random_state=15)]\n"
   ]
  },
  {
   "cell_type": "code",
   "execution_count": 35,
   "id": "89d8b7ff",
   "metadata": {},
   "outputs": [
    {
     "name": "stdout",
     "output_type": "stream",
     "text": [
      "DecisionTreeClassifier Model Accuracy on the Test Data is 56.9%\n",
      "              precision    recall  f1-score   support\n",
      "\n",
      "           3       0.06      0.14      0.08         7\n",
      "           4       0.16      0.31      0.21        32\n",
      "           5       0.62      0.61      0.62       358\n",
      "           6       0.66      0.55      0.60       544\n",
      "           7       0.59      0.58      0.58       241\n",
      "           8       0.27      0.60      0.37        43\n",
      "           9       0.00      0.00      0.00         0\n",
      "\n",
      "    accuracy                           0.57      1225\n",
      "   macro avg       0.34      0.40      0.35      1225\n",
      "weighted avg       0.60      0.57      0.58      1225\n",
      "\n",
      "SVC Model Accuracy on the Test Data is 40.65%\n",
      "              precision    recall  f1-score   support\n",
      "\n",
      "           3       0.00      0.00      0.00         7\n",
      "           4       0.15      0.62      0.24        32\n",
      "           5       0.54      0.54      0.54       358\n",
      "           6       0.62      0.30      0.41       544\n",
      "           7       0.38      0.41      0.40       241\n",
      "           8       0.14      0.49      0.21        43\n",
      "           9       0.00      0.00      0.00         0\n",
      "\n",
      "    accuracy                           0.41      1225\n",
      "   macro avg       0.26      0.34      0.26      1225\n",
      "weighted avg       0.52      0.41      0.43      1225\n",
      "\n",
      "RandomForestClassifier Model Accuracy on the Test Data is 63.76%\n",
      "              precision    recall  f1-score   support\n",
      "\n",
      "           3       0.12      0.14      0.13         7\n",
      "           4       0.32      0.47      0.38        32\n",
      "           5       0.67      0.70      0.68       358\n",
      "           6       0.69      0.63      0.66       544\n",
      "           7       0.61      0.63      0.62       241\n",
      "           8       0.43      0.51      0.47        43\n",
      "           9       0.00      0.00      0.00         0\n",
      "\n",
      "    accuracy                           0.64      1225\n",
      "   macro avg       0.41      0.44      0.42      1225\n",
      "weighted avg       0.65      0.64      0.64      1225\n",
      "\n"
     ]
    }
   ],
   "source": [
    "# Train the models and show the classification report\n",
    "for cls in classifiers:\n",
    "# fit the data\n",
    "    model = cls.fit(X_train_s, y_train_s)\n",
    "    #get predictions\n",
    "    predictions=cls.predict(X_test)\n",
    "    \n",
    "    accuracy = accuracy_score(y_test, predictions)\n",
    "    \n",
    "    print(f'{cls.__class__.__name__} Model Accuracy on the Test Data is {np.round(accuracy*100,2)}%')\n",
    "    print(classification_report(y_test, predictions))\n"
   ]
  },
  {
   "cell_type": "markdown",
   "id": "394d1de3",
   "metadata": {},
   "source": [
    "The Random Forest Classifier gives the most accurate result in this comparison. Different kernels for the SVC were used, 'rbf' predicted the most accurate of all the kernels. In the Decision Tree Classifier, increasing the max_depth parameter over 25 does not result in better accuracy. "
   ]
  },
  {
   "cell_type": "markdown",
   "id": "432a996b",
   "metadata": {},
   "source": [
    "## Build Random Forest Model with hyperparameters"
   ]
  },
  {
   "cell_type": "markdown",
   "id": "1ba8ab16",
   "metadata": {},
   "source": [
    "The code below presents the final iteration of tuning the parameters for the Random Forest Classifier, throughout the process the parameters were carefully tuned based on the results. Previously GridSearchCV was used, which made a model for every combination of these parameters. However, the limited computing power available made this process very time-consuming. RandomizedSearchCV made this process more time-efficient, it allows to specify the number of candidates."
   ]
  },
  {
   "cell_type": "code",
   "execution_count": 36,
   "id": "6d30bad4",
   "metadata": {},
   "outputs": [
    {
     "name": "stdout",
     "output_type": "stream",
     "text": [
      "{'n_estimators': [100, 105, 110], 'max_features': ['sqrt', 'log2'], 'max_depth': [28, 32, 36, 'none'], 'min_samples_split': [2, 5, 7], 'min_samples_leaf': [1, 2, 4], 'bootstrap': [True, False]}\n"
     ]
    }
   ],
   "source": [
    "# Number of trees in random forest\n",
    "n_estimators = [100, 105, 110]\n",
    "# Number of features to consider at every split\n",
    "max_features = ['sqrt', 'log2']\n",
    "# Maximum number of levels in tree\n",
    "max_depth = [28, 32, 36]\n",
    "max_depth.append(\"none\")\n",
    "# Minimum number of samples required to split a node\n",
    "min_samples_split = [2, 5, 7]\n",
    "# Minimum number of samples required at each leaf node\n",
    "min_samples_leaf = [1,2, 4]\n",
    "# Method of selecting samples for training each tree\n",
    "bootstrap = [True, False]\n",
    "\n",
    "# Create the param grid\n",
    "param_grid = {'n_estimators': n_estimators,\n",
    "               'max_features': max_features,\n",
    "               'max_depth': max_depth,\n",
    "               'min_samples_split': min_samples_split,\n",
    "               'min_samples_leaf': min_samples_leaf,\n",
    "               'bootstrap': bootstrap}\n",
    "print(param_grid)"
   ]
  },
  {
   "cell_type": "code",
   "execution_count": 37,
   "id": "63533274",
   "metadata": {},
   "outputs": [],
   "source": [
    "from sklearn.model_selection import RandomizedSearchCV\n",
    "\n",
    "random_forest =  RandomForestClassifier()\n",
    "# create a Randomized Search CV where:\n",
    "# n_iter = 30 - number of seetings combinations, it is keeped at a relative low number to save time, but at the cost of the quality\n",
    "# cv = 3 - creates 3 folds for cross validation \n",
    "# verbose = 2 - for displaying messanges \n",
    "# n_jobs = -2 - use all logical processors available except one\n",
    "rf_random_grid = RandomizedSearchCV(estimator = random_forest, param_distributions = param_grid, n_iter=30, cv = 3, verbose=2, n_jobs = -2, random_state=42)\n"
   ]
  },
  {
   "cell_type": "code",
   "execution_count": 38,
   "id": "13ac4dfc",
   "metadata": {},
   "outputs": [
    {
     "name": "stdout",
     "output_type": "stream",
     "text": [
      "Fitting 3 folds for each of 30 candidates, totalling 90 fits\n"
     ]
    },
    {
     "data": {
      "text/plain": [
       "RandomizedSearchCV(cv=3, estimator=RandomForestClassifier(), n_iter=30,\n",
       "                   n_jobs=-2,\n",
       "                   param_distributions={'bootstrap': [True, False],\n",
       "                                        'max_depth': [28, 32, 36, 'none'],\n",
       "                                        'max_features': ['sqrt', 'log2'],\n",
       "                                        'min_samples_leaf': [1, 2, 4],\n",
       "                                        'min_samples_split': [2, 5, 7],\n",
       "                                        'n_estimators': [100, 105, 110]},\n",
       "                   random_state=42, verbose=2)"
      ]
     },
     "execution_count": 38,
     "metadata": {},
     "output_type": "execute_result"
    }
   ],
   "source": [
    "rf_random_grid.fit(X_train_s, y_train_s)"
   ]
  },
  {
   "cell_type": "code",
   "execution_count": 39,
   "id": "44502b9f",
   "metadata": {},
   "outputs": [
    {
     "data": {
      "text/plain": [
       "{'n_estimators': 110,\n",
       " 'min_samples_split': 5,\n",
       " 'min_samples_leaf': 1,\n",
       " 'max_features': 'sqrt',\n",
       " 'max_depth': 32,\n",
       " 'bootstrap': False}"
      ]
     },
     "execution_count": 39,
     "metadata": {},
     "output_type": "execute_result"
    }
   ],
   "source": [
    "rf_random_grid.best_params_"
   ]
  },
  {
   "cell_type": "code",
   "execution_count": 40,
   "id": "1f0e367e",
   "metadata": {},
   "outputs": [
    {
     "name": "stdout",
     "output_type": "stream",
     "text": [
      "Train Accuracy - : 99.97%\n",
      "Test Accuracy - : 64.9%\n"
     ]
    }
   ],
   "source": [
    "print (f'Train Accuracy - : {np.round(rf_random_grid.score(X_train,y_train)*100,2)}%')\n",
    "print (f'Test Accuracy - : {np.round(rf_random_grid.score(X_test,y_test)*100,2)}%')"
   ]
  },
  {
   "cell_type": "code",
   "execution_count": 41,
   "id": "b69b0707",
   "metadata": {},
   "outputs": [
    {
     "name": "stdout",
     "output_type": "stream",
     "text": [
      "The overall accuracy of RF is 64.9%\n",
      "              precision    recall  f1-score   support\n",
      "\n",
      "           3       0.17      0.14      0.15         7\n",
      "           4       0.33      0.38      0.35        32\n",
      "           5       0.67      0.69      0.68       358\n",
      "           6       0.68      0.65      0.67       544\n",
      "           7       0.64      0.66      0.65       241\n",
      "           8       0.50      0.47      0.48        43\n",
      "           9       0.00      0.00      0.00         0\n",
      "\n",
      "    accuracy                           0.65      1225\n",
      "   macro avg       0.43      0.43      0.43      1225\n",
      "weighted avg       0.65      0.65      0.65      1225\n",
      "\n"
     ]
    }
   ],
   "source": [
    "rf_predictions = rf_random_grid.predict(X_test)\n",
    "\n",
    "accuracy = accuracy_score(y_test, rf_predictions)\n",
    "\n",
    "print(f'The overall accuracy of RF is {np.round(accuracy*100,2)}%') \n",
    "print(classification_report(y_test, rf_predictions))"
   ]
  },
  {
   "cell_type": "code",
   "execution_count": 42,
   "id": "1ef39ec0",
   "metadata": {},
   "outputs": [
    {
     "data": {
      "image/png": "[encoded data removed]",
      "text/plain": [
       "<Figure size 504x360 with 2 Axes>"
      ]
     },
     "metadata": {},
     "output_type": "display_data"
    }
   ],
   "source": [
    "# display a confusion matrix in a form of a heatmap \n",
    "display_heatmap(y_test,rf_predictions)"
   ]
  },
  {
   "cell_type": "markdown",
   "id": "227d9533",
   "metadata": {},
   "source": [
    "The values in the heatmap above indicate that the trained model is classifying most of the sample correctly or not far off."
   ]
  },
  {
   "cell_type": "code",
   "execution_count": 43,
   "id": "f298bc40",
   "metadata": {},
   "outputs": [],
   "source": [
    "# create a table with Actual value, Predicted Value and isCorrect\n",
    "# store actual class labels and predicted ones in a dataframe\n",
    "results = pd.DataFrame({'Actual':y_test,'Predicted':rf_predictions})\n",
    "\n",
    "# lets compare predictions against actual class labels\n",
    "check_predictions = np.where(results['Actual'] == results['Predicted'], True, False)\n",
    "\n",
    "results['isCorrect'] = check_predictions\n"
   ]
  },
  {
   "cell_type": "code",
   "execution_count": 44,
   "id": "6ac04966",
   "metadata": {},
   "outputs": [
    {
     "name": "stdout",
     "output_type": "stream",
     "text": [
      "Random Forest Model small error acceptance accuracy on the Test Data is 93.96%\n"
     ]
    }
   ],
   "source": [
    "total = results.shape[0]\n",
    "correct = results[results.isCorrect==True].shape[0]\n",
    "incorrect = results[results.isCorrect!=True]\n",
    "\n",
    "incorrect_by_one = 0\n",
    "\n",
    "# itarate through all incorrect\n",
    "# count how many times the model was wrong by one \n",
    "for index, row in incorrect.iterrows():\n",
    "    difference = abs(row.Actual - row.Predicted)\n",
    "    if difference == 1:\n",
    "        incorrect_by_one = incorrect_by_one + 1\n",
    "        \n",
    "\n",
    "new_accuracy = (correct + incorrect_by_one) / total\n",
    "\n",
    "print(f'Random Forest Model small error acceptance accuracy on the Test Data is {np.round(new_accuracy*100,2)}%')"
   ]
  },
  {
   "cell_type": "code",
   "execution_count": 45,
   "id": "6300cbd2",
   "metadata": {},
   "outputs": [
    {
     "name": "stdout",
     "output_type": "stream",
     "text": [
      "In 356 cases of total 1225 test cases the model is close to classify correctly.\n"
     ]
    }
   ],
   "source": [
    "print(f'In {incorrect_by_one} cases of total {total} test cases the model is close to classify correctly.')"
   ]
  },
  {
   "cell_type": "markdown",
   "id": "b22a6fbf",
   "metadata": {},
   "source": [
    "The Random Forest Classifier with specified hyperparameters performs slightly better than with the default settings. Unfortunately, the model still misclassifies around a third of the test data, which is not ideal, however most of the time only by one class. The numbers suggest that the model still overfits the data, all the attempts to reduce overfitting failed because in this process the test accuracy was significantly reduced. It could be explained by the noise in the data, we need to remember that a lot of data was oversampled. Therefore a better sampling method could be used, which was discussed in the Sampling section. "
   ]
  },
  {
   "cell_type": "markdown",
   "id": "7e8b80f4",
   "metadata": {},
   "source": [
    "# References\n",
    "CHAWLA, N. et al., 2002. SMOTE: Synthetic Minority Over-sampling Technique. Journal of Artificial Intelligence Research, 16, pp. 321-357.\n",
    "\n",
    "CORTEZ, P. et al., 2009. Modeling wine preferences by data mining from physicochemical properties. Decision Support Systems, 47(4), pp. 547-553.\n",
    "\n",
    "ELYAN, E., MORENO-GARCIA, C. and JAYNE, C., 2020. CDSMOTE: class decomposition and synthetic minority class oversampling technique for imbalanced-data classification. Neural Computing and Applications, 33(7), pp. 2839-2851.\n",
    "\n",
    "FERNANDEZ-DELGADO, M. et al., 2014. Do we need hundreds of classifiers to solve real world classification problems?. Journal of Machine Learning Research, 15(1), pp. 3133-3181.\n",
    "\n",
    "GOSAIN, A. and SARDANA, S., 2017. Handling class imbalance problem using oversampling techniques: A review. 2017 International Conference on Advances in Computing, Communications and Informatics (ICACCI).\n",
    "\n",
    "GUPTA, Y., 2018. Selection of important features and predicting wine quality using machine learning techniques. Procedia Computer Science, 125, pp. 305-312.\n",
    "\n",
    "HAN, T. et al., 2017. Comparison of random forest, artificial neural networks and support vector machine for intelligent diagnosis of rotating machinery. Transactions of the Institute of Measurement and Control, 40(8), pp. 2681-2693.\n",
    "\n",
    "LEGIN, A. et al., 2003. Evaluation of Italian wine by the electronic tongue: recognition, quantitative analysis and correlation with human sensory perception. Analytica Chimica Acta, 484(1), pp. 33-44.\n",
    "\n",
    "sklearn.ensemble.RandomForestClassifier, 2021. [online]. Available from: https://scikit-learn.org/stable/modules/generated/sklearn.ensemble.RandomForestClassifier.html [Accessed 13 December 2021].\n",
    "\n",
    "SUN, L., DANZER, K. and THIEL, G., 1997. Classification of wine samples by means of artificial neural networks and discrimination analytical methods. Fresenius' Journal of Analytical Chemistry, 359(2), pp. 143-149.\n",
    "\n",
    "YAP, B. et al., 2013. An Application of Oversampling, Undersampling, Bagging and Boosting in Handling Imbalanced Datasets. Lecture Notes in Electrical Engineering, pp. 13-22.\n",
    "\n",
    "\n"
   ]
  }
 ],
 "metadata": {
  "authors": [
   {
    "name": "Pawel Sznura"
   }
  ],
  "kernelspec": {
   "display_name": "Python 3",
   "language": "python",
   "name": "python3"
  },
  "language_info": {
   "codemirror_mode": {
    "name": "ipython",
    "version": 3
   },
   "file_extension": ".py",
   "mimetype": "text/x-python",
   "name": "python",
   "nbconvert_exporter": "python",
   "pygments_lexer": "ipython3",
   "version": "3.8.8"
  }
 },
 "nbformat": 4,
 "nbformat_minor": 5
}
